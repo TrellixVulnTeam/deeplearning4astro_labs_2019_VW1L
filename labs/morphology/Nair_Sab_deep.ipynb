{
 "cells": [
  {
   "cell_type": "code",
   "execution_count": 1,
   "metadata": {
    "collapsed": false
   },
   "outputs": [
    {
     "name": "stderr",
     "output_type": "stream",
     "text": [
      "Using TensorFlow backend.\n"
     ]
    }
   ],
   "source": [
    "import numpy as np\n",
    "import matplotlib\n",
    "import matplotlib.pyplot as plt\n",
    "from astropy.io import fits\n",
    "from astropy.table import Table\n",
    "from math import log10\n",
    "from math import pi\n",
    "import matplotlib\n",
    "import matplotlib.pyplot as plt\n",
    "import numpy as np\n",
    "import os\n",
    "import glob\n",
    "from astropy.table import Table\n",
    "from astropy.cosmology import Planck13\n",
    "from sklearn.ensemble import RandomForestClassifier\n",
    "from sklearn.metrics import roc_curve, precision_recall_curve, accuracy_score\n",
    "from sklearn.model_selection import train_test_split\n",
    "from sklearn.tree import export_graphviz\n",
    "from scipy import misc\n",
    "from scipy.ndimage import zoom\n",
    "from scipy.ndimage.interpolation import rotate\n",
    "import glob\n",
    "from astropy.io import fits\n",
    "from astropy.table import Table\n",
    "from math import log10\n",
    "import matplotlib\n",
    "import matplotlib.pyplot as plt\n",
    "import numpy as np\n",
    "import os\n",
    "from scipy.ndimage import zoom\n",
    "from scipy.ndimage.interpolation import rotate\n",
    "import glob\n",
    "\n",
    "from keras.preprocessing.image import ImageDataGenerator\n",
    "from keras.models import Sequential\n",
    "from keras.layers.core import Dense, Dropout, Activation, Flatten\n",
    "from keras.models import Model\n",
    "\n",
    "\n",
    "from keras.layers.convolutional import Convolution2D, MaxPooling2D, Conv2D\n",
    "from keras.optimizers import rmsprop\n",
    "\n",
    "import random\n",
    "import pdb\n",
    "import time\n",
    "\n",
    "from sklearn.utils import shuffle\n",
    "\n",
    "from keras.callbacks import EarlyStopping\n",
    "from keras.callbacks import ModelCheckpoint\n",
    "\n",
    "from keras.models import model_from_json\n",
    "from keras.models import model_from_yaml\n",
    "from keras.optimizers import SGD\n",
    "\n",
    "%matplotlib inline"
   ]
  },
  {
   "cell_type": "markdown",
   "metadata": {},
   "source": [
    "# Train a simple CNN for galaxy morphology\n",
    "\n",
    "The goal of this tutorial is to perform the same classification performed in the first tuorial with catalog data but using CNNs and images as inputs.\n",
    "\n",
    "The first cells until the cell called Read are just functions. They do not output anything. You only need to compile them."
   ]
  },
  {
   "cell_type": "markdown",
   "metadata": {},
   "source": [
    "# Function to read images"
   ]
  },
  {
   "cell_type": "code",
   "execution_count": 9,
   "metadata": {
    "collapsed": true
   },
   "outputs": [],
   "source": [
    "# to cut stamps -- ignore\n",
    "def extract_thumb(im,x,y,size):\n",
    "    if size %2==0:\n",
    "        size = size+1\n",
    "    up_x=int(x-size/2)\n",
    "    dow_x=int(x+size/2)\n",
    "    up_y=int(y-size/2)\n",
    "    dow_y=int(y+size/2)\n",
    "    res=im[up_x:dow_x,up_y:dow_y]        \n",
    "    return res \n",
    "\n",
    "# this function only reads jpeg images and saves them to a numpy array. images are rebnned to a 69*68 pixel size to \n",
    "# speed computation in the CNN part.\n",
    "# not very \"clean\" -- sorry\n",
    "def read_data(pathsave,maxim):\n",
    "    \n",
    "    # image size that will go into the network (this is only for the deep learning part, not the RF)\n",
    "    size_im=69\n",
    "    size_crop=207\n",
    "  \n",
    "\n",
    "    data=fits.getdata('Nair_Abraham_cat.fit',1)\n",
    "    idcat=data['dr7objid']\n",
    "    ttype=data['TType']\n",
    "    \n",
    "    #define the morphologies we want to retrieve\n",
    "    m=ttype*0-1\n",
    "    # this should select elliptical galaxies(visually classified)\n",
    "    m[np.where((ttype>=-5) & (ttype<=0))]=0\n",
    "    # this should select spiral galaxies (visually classified)\n",
    "    m[np.where((ttype>0) & (ttype<=10))]=1\n",
    "      \n",
    "    D=np.zeros([maxim,size_im,size_im,3])  #input tensor - images dimensions + color channels\n",
    "    Y=np.zeros(maxim) #label vector\n",
    "    idvec=np.zeros([maxim], dtype=np.long)\n",
    "    \n",
    "    iteri=-1;\n",
    "    numim=0;\n",
    "    numim_init=numim\n",
    "    nplace=0  #location 1st galaxy to be read \n",
    "    catalog=Table(data)\n",
    "\n",
    "    while iteri<maxim-1:\n",
    "        if iteri>=-1:\n",
    "            numgal=idcat[numim]\n",
    "            namegal=str(numgal)+\"_GZOO_.jpg\"        \n",
    "            scidata = imread('cutouts_jpeg_all/'+namegal)\n",
    "            f=numim\n",
    "            \n",
    "            print('reading: '+namegal)\n",
    "            \n",
    "        if iteri<-1:\n",
    "            print(\"Galaxy number %d is missing\" % (numim))\n",
    "            print(namegal)\n",
    "            numim += 1\n",
    "            continue\n",
    "        \n",
    "        lx,ly, lz=scidata.shape\n",
    "        #wrong shape - ignore image\n",
    "        if lx < 256 or ly<256 or m[f]<0:\n",
    "            numim += 1\n",
    "            continue\n",
    "\n",
    "        if lx<size_im:\n",
    "            numim += 1\n",
    "            continue\n",
    "\n",
    "        \n",
    "        scidata = extract_thumb(scidata,int(lx/2.0),int(ly/2.0),size_crop) # take only a cutout of 207*207 pixels\n",
    "        scidata=zoom(scidata, [1/3.,1./3,1], order=3)  #keep 1/3 pixels to speed up\n",
    "        \n",
    "        \n",
    "        iteri=iteri+1\n",
    "        \n",
    "        \n",
    "        D[iteri,:,:,:]=scidata  #add image to the input tensor\n",
    "\n",
    "        Y[iteri]=m[numim] #update the label\n",
    "        \n",
    "        idvec[iteri]=idcat[numim] \n",
    "\n",
    "        if (m[numim]==0 and iteri%100 ==0):\n",
    "            print(\"Saving example\")\n",
    "            misc.imsave(pathsave+\"example_stamps/\"+namegal,scidata)\n",
    "            \n",
    "         \n",
    "        numim=numim+1\n",
    "\n",
    "        \n",
    "        Y = Y.squeeze()\n",
    "\n",
    "    # this is to avoid reading all images at every training\n",
    "    print(\"Saving image and target vector\")\n",
    "    np.save(pathsave+\"image_vector_Sab_\"+str(maxim)+\".npy\",D) \n",
    "    np.save(pathsave+\"target_vector_Sab_\"+str(maxim)+\".npy\",Y)\n",
    "    np.save(pathsave+\"ID_vector_Sab_\"+str(maxim)+\".npy\",idvec) \n",
    "\n",
    "    return D,Y\n",
    "\n",
    "# D contains the images\n",
    "# Y the labels to be learned (morphology, i.e. y=0-->elliptical, y=1-->spiral)\n"
   ]
  },
  {
   "cell_type": "markdown",
   "metadata": {},
   "source": [
    "# Function for model definition"
   ]
  },
  {
   "cell_type": "code",
   "execution_count": 2,
   "metadata": {
    "collapsed": true
   },
   "outputs": [],
   "source": [
    "def CNN_Nair(img_channels, img_rows, img_cols):\n",
    "    \n",
    "    # some hyperparamters you can chage\n",
    "    dropoutpar=0.5\n",
    "    depth=32   \n",
    "    nb_dense = 64\n",
    "    \n",
    "    # SGD parameters [when using SGD optimizer]\n",
    "    #lr=0.001   #0.001\n",
    "    #decay=0\n",
    "    #momentum=0.9   #0.9\n",
    "    #nesterov=True\n",
    "\n",
    "    model=Sequential()\n",
    "    model.add(Convolution2D(depth, 6,6, border_mode='same',input_shape=(img_rows, img_cols,img_channels)))\n",
    "    model.add(Activation('relu'))\n",
    "    model.add(Dropout(dropoutpar))\n",
    "    \n",
    "    model.add(Convolution2D(depth*2, 5, 5, border_mode='same'))\n",
    "    model.add(Activation('relu'))\n",
    "    \n",
    "    model.add(MaxPooling2D(pool_size=(2, 2)))\n",
    "    model.add(Dropout(dropoutpar/2))\n",
    "\n",
    "    model.add(Flatten())\n",
    "    model.add(Dense(nb_dense, activation='relu'))\n",
    "    model.add(Dropout(dropoutpar)) \n",
    "    model.add(Dense(1, init='uniform', activation='sigmoid'))\n",
    "    print(\"Compilation...\")\n",
    "    \n",
    "    # you can change here to SGD optimizer\n",
    "    #sgd = SGD(lr=lr, decay=decay, momentum=momentum, nesterov=True) #uncomment to use sgd\n",
    "    model.compile(loss='binary_crossentropy',optimizer='adam',metrics=['accuracy'])\n",
    "    print(\"... done!\")\n",
    "    print(\"Model Summary\")\n",
    "    print(\"===================\")\n",
    "    model.summary()\n",
    "    return model"
   ]
  },
  {
   "cell_type": "code",
   "execution_count": 1,
   "metadata": {
    "collapsed": true
   },
   "outputs": [],
   "source": [
    "def CNN_Nair(img_channels, img_rows, img_cols):\n",
    "    dropoutpar=0.5\n",
    "    depth=32   \n",
    "    nb_dense = 64\n",
    "    \n",
    "    inputs = Input(shape=(img_rows,img_cols,img_channels))\n",
    "    x=Conv2D(depth,6,6,init='orthogonal',activation='relu',border_mode='same',name='conv1')(inputs)               \n",
    "    x=Dropout(droputpar)(x)\n",
    "    x=Conv2D(depth*2,5,5,activation='relu',border_mode='same',name='conv2')(x) \n",
    "    x = MaxPooling2D(pool_size=(2, 2))(x)\n",
    "    x = Dropout(dropoutpar/2)(x)\n",
    "    x = Flatten()(x)\n",
    "    x = Dense(64,activation='relu', name='Dense1')(fl_input)\n",
    "    x = Dropout(0.5)(x)\n",
    "    x = Dense(1,activation='sigmoid',name='Dense2')(x)\n",
    "    model = Model(inputs=inputs,outputs=x)\n",
    "    model.summary()\n",
    "    return model"
   ]
  },
  {
   "cell_type": "markdown",
   "metadata": {},
   "source": [
    "# Function to train"
   ]
  },
  {
   "cell_type": "code",
   "execution_count": 4,
   "metadata": {
    "collapsed": true
   },
   "outputs": [],
   "source": [
    "def train_convnet_Nair(X,Y,ntrain,nval,test_name):\n",
    "\n",
    "\n",
    "    # train params - hardocded for simplicity - you can change them\n",
    "    batch_size = 30 \n",
    "    nb_epoch = 50\n",
    "    data_augmentation = True # if set to True the data will be augmented at every iteration\n",
    "    \n",
    "    \n",
    "    ind=random.sample(range(0, ntrain+nval-1), ntrain+nval-1)\n",
    "    X_train = X[ind[0:ntrain],:,:,:]   \n",
    "    X_val = X[ind[ntrain:ntrain+nval],:,:,:]\n",
    "    Y_train = Y[ind[0:ntrain]]\n",
    "    Y_val = Y[ind[ntrain:ntrain+nval]]\n",
    "\n",
    "   \n",
    "    # input image dimensions\n",
    "    img_rows, img_cols = X_train.shape[1:3]\n",
    "    img_channels = 3\n",
    "\n",
    "    \n",
    "    ### Right shape for X -- ignore\n",
    "    X_train = X_train.reshape(X_train.shape[0], img_rows, img_cols,img_channels)\n",
    "    X_val = X_val.reshape(X_val.shape[0], img_rows, img_cols,img_channels)\n",
    "\n",
    "\n",
    "    #Avoid more iterations once convergence\n",
    "    patience_par=10\n",
    "    earlystopping = EarlyStopping( monitor='val_loss',patience = patience_par,verbose=0,mode='auto' )\n",
    "    modelcheckpoint = ModelCheckpoint(test_name+\"_best.hd5\",monitor='val_loss',verbose=0,save_best_only=True)\n",
    "\n",
    "\n",
    "    #build model\n",
    "    model=CNN_Nair(img_channels, img_rows, img_cols)\n",
    "\n",
    "\n",
    "\n",
    "\n",
    "    if not data_augmentation:\n",
    "        print('Not using data augmentation.')\n",
    "        history = model.fit(X_train, Y_train,\n",
    "                            batch_size=batch_size,\n",
    "                            nb_epoch=nb_epoch,\n",
    "                            validation_data=(X_val, Y_val),\n",
    "                            shuffle=True,\n",
    "                            verbose=verbose, callbacks=[earlystopping, modelcheckpoint])\n",
    "    else:\n",
    "        print('Using real-time data augmentation.')\n",
    "\n",
    "        # this will do preprocessing and realtime data augmentation\n",
    "        datagen = ImageDataGenerator(\n",
    "            featurewise_center=False, \n",
    "            samplewise_center=False, \n",
    "            featurewise_std_normalization=False, \n",
    "            samplewise_std_normalization=False,\n",
    "            zca_whitening=False, \n",
    "            rotation_range=45,\n",
    "            width_shift_range=0.05,  \n",
    "            height_shift_range=0.05, \n",
    "            horizontal_flip=True,\n",
    "            vertical_flip=True,\n",
    "            zoom_range=[0.75,1.3])  \n",
    "\n",
    "        \n",
    "        datagen.fit(X_train)\n",
    "        \n",
    "        history = model.fit_generator(\n",
    "                    datagen.flow(X_train, Y_train, batch_size=batch_size),\n",
    "                    samples_per_epoch=X_train.shape[0],\n",
    "                    nb_epoch=nb_epoch,\n",
    "                    validation_data=(X_val, Y_val),\n",
    "                    callbacks=[ earlystopping, modelcheckpoint]\n",
    "                )\n",
    "\n",
    "\n",
    "\n",
    "    print(\"Saving model...\")\n",
    "    # save weights\n",
    "    model.save_weights(test_name,overwrite=True)\n",
    "    \n",
    "        \n",
    "    \n",
    "    return test_name"
   ]
  },
  {
   "cell_type": "markdown",
   "metadata": {},
   "source": [
    "# Function to test"
   ]
  },
  {
   "cell_type": "code",
   "execution_count": 5,
   "metadata": {
    "collapsed": true
   },
   "outputs": [],
   "source": [
    "def test_convnet_Nair(X,model_name):\n",
    "    \n",
    "    # input image dimensions\n",
    "    img_rows, img_cols = X.shape[1:3]\n",
    "    img_channels = 3\n",
    "    X = X.reshape(X.shape[0], img_rows, img_cols,img_channels)\n",
    "    \n",
    "    #====== load model & predict=======\n",
    "\n",
    "    print(\"Loading weights\", model_name)\n",
    "    \n",
    "    model=CNN_Nair(img_channels, img_rows, img_cols)\n",
    "    model.load_weights(model_name)\n",
    "    Y_pred = model.predict_proba(X)\n",
    "\n",
    "\n",
    "    return Y_pred"
   ]
  },
  {
   "cell_type": "markdown",
   "metadata": {},
   "source": [
    "# Read"
   ]
  },
  {
   "cell_type": "code",
   "execution_count": 10,
   "metadata": {
    "collapsed": false
   },
   "outputs": [
    {
     "name": "stdout",
     "output_type": "stream",
     "text": [
      "Reading images\n",
      "====================\n",
      "reading: 587748927626149924_GZOO_.jpg\n",
      "Saving example\n",
      "reading: 587748927626870899_GZOO_.jpg\n",
      "reading: 587748927627722875_GZOO_.jpg\n",
      "reading: 587722981742084144_GZOO_.jpg\n",
      "reading: 587722981744640177_GZOO_.jpg\n"
     ]
    },
    {
     "name": "stderr",
     "output_type": "stream",
     "text": [
      "/Users/marchuertascompany/anaconda3/envs/astrophd_tutorial/lib/python3.6/site-packages/ipykernel_launcher.py:84: DeprecationWarning: `imsave` is deprecated!\n",
      "`imsave` is deprecated in SciPy 1.0.0, and will be removed in 1.2.0.\n",
      "Use ``imageio.imwrite`` instead.\n"
     ]
    },
    {
     "name": "stdout",
     "output_type": "stream",
     "text": [
      "reading: 587722981744771128_GZOO_.jpg\n",
      "reading: 587722981745295552_GZOO_.jpg\n",
      "reading: 587722981745426489_GZOO_.jpg\n",
      "reading: 587722981747392587_GZOO_.jpg\n",
      "reading: 587722981748048006_GZOO_.jpg\n",
      "reading: 587722981750276247_GZOO_.jpg\n",
      "reading: 587722981750931635_GZOO_.jpg\n",
      "reading: 587722981754011901_GZOO_.jpg\n",
      "reading: 587722981755977976_GZOO_.jpg\n",
      "reading: 587748928160530448_GZOO_.jpg\n",
      "reading: 587748928160858191_GZOO_.jpg\n",
      "reading: 587748928162562264_GZOO_.jpg\n",
      "reading: 587748928166428807_GZOO_.jpg\n",
      "reading: 587722982278496424_GZOO_.jpg\n",
      "reading: 587722982278758580_GZOO_.jpg\n",
      "reading: 587722982278889623_GZOO_.jpg\n",
      "reading: 587722982282035411_GZOO_.jpg\n",
      "reading: 587722982283214886_GZOO_.jpg\n",
      "reading: 587722982284460121_GZOO_.jpg\n",
      "reading: 587722982284460272_GZOO_.jpg\n",
      "reading: 587722982284525580_GZOO_.jpg\n",
      "reading: 587722982285967469_GZOO_.jpg\n",
      "reading: 587722982289834254_GZOO_.jpg\n",
      "reading: 587722982290620479_GZOO_.jpg\n",
      "reading: 587722982290686153_GZOO_.jpg\n",
      "reading: 587722982290948308_GZOO_.jpg\n",
      "reading: 587722982291210350_GZOO_.jpg\n",
      "reading: 587722982291407103_GZOO_.jpg\n",
      "reading: 587722982291734550_GZOO_.jpg\n",
      "reading: 587722982291865751_GZOO_.jpg\n",
      "reading: 587722982292455684_GZOO_.jpg\n",
      "reading: 587722982292717776_GZOO_.jpg\n",
      "reading: 587722982297305365_GZOO_.jpg\n",
      "reading: 587722982297698635_GZOO_.jpg\n",
      "reading: 587722982298615914_GZOO_.jpg\n",
      "reading: 587722982298616131_GZOO_.jpg\n",
      "reading: 587722982299402394_GZOO_.jpg\n",
      "reading: 587722982299992357_GZOO_.jpg\n",
      "reading: 587722982300516593_GZOO_.jpg\n",
      "reading: 587748928697860108_GZOO_.jpg\n",
      "reading: 587748928699301981_GZOO_.jpg\n",
      "reading: 587722982814122096_GZOO_.jpg\n",
      "reading: 587722982814318600_GZOO_.jpg\n",
      "reading: 587722982815760526_GZOO_.jpg\n",
      "reading: 587722982815891459_GZOO_.jpg\n",
      "reading: 587722982817529962_GZOO_.jpg\n",
      "Saving image and target vector\n"
     ]
    }
   ],
   "source": [
    "READ_IMAGES=True\n",
    "LOAD_NPY=False\n",
    "\n",
    "#output folder\n",
    "pathsave=\"E_vs_S_deep/\"\n",
    "\n",
    "maxim=50  #number of images to read in D, Y vectors\n",
    "\n",
    "\n",
    "nparams=1\n",
    "\n",
    "#file to save model weights\n",
    "model_name=pathsave+\"Nair_ES.hd5\"\n",
    "\n",
    "## reading\n",
    "\n",
    "if READ_IMAGES:\n",
    "    print(\"Reading images\")\n",
    "    print(\"====================\")\n",
    "    D,Y=read_data(pathsave,maxim)  #read images\n",
    "    \n",
    "if LOAD_NPY:\n",
    "    print(\"Loading D, Y\")\n",
    "    D=np.load(pathsave+\"image_vector_TType_\"+str(maxim)+\".npy\")\n",
    "    Y=np.load(pathsave+\"target_vector_TType_\"+str(maxim)+\".npy\")\n",
    "    ID=np.load(pathsave+\"ID_vector_TType_\"+str(maxim)+\".npy\")    "
   ]
  },
  {
   "cell_type": "markdown",
   "metadata": {},
   "source": [
    "# Visualize random images"
   ]
  },
  {
   "cell_type": "code",
   "execution_count": 41,
   "metadata": {
    "collapsed": false
   },
   "outputs": [
    {
     "name": "stdout",
     "output_type": "stream",
     "text": [
      "Morphology:  elliptical\n"
     ]
    },
    {
     "data": {
      "text/plain": [
       "<matplotlib.image.AxesImage at 0x1a1556b1d0>"
      ]
     },
     "execution_count": 41,
     "metadata": {},
     "output_type": "execute_result"
    },
    {
     "data": {
      "image/png": "[encoded data removed]",
      "text/plain": [
       "<Figure size 432x288 with 1 Axes>"
      ]
     },
     "metadata": {},
     "output_type": "display_data"
    }
   ],
   "source": [
    "#random image to print\n",
    "n=int(np.random.uniform(0,maxim,1))\n",
    "\n",
    "if Y[n]==0:\n",
    "    mor=\"elliptical\"\n",
    "else:\n",
    "    mor=\"spiral\"\n",
    "print(\"Morphology: \", mor)    \n",
    "plt.imshow(D[n,:,:,:].astype(int))"
   ]
  },
  {
   "cell_type": "markdown",
   "metadata": {},
   "source": [
    "# Train"
   ]
  },
  {
   "cell_type": "code",
   "execution_count": 13,
   "metadata": {
    "collapsed": false
   },
   "outputs": [
    {
     "name": "stdout",
     "output_type": "stream",
     "text": [
      "1.0\n",
      "1.0\n",
      "(50, 3)\n",
      "1.0\n",
      "(50, 3)\n",
      "1.0\n",
      "(50, 3)\n",
      "1.0\n",
      "(50, 3)\n",
      "1.0\n",
      "(50, 3)\n",
      "1.0\n",
      "(50, 3)\n",
      "1.0\n",
      "(50, 3)\n",
      "1.0\n",
      "(50, 3)\n",
      "1.0\n",
      "(50, 3)\n",
      "1.0\n",
      "(50, 3)\n",
      "1.0\n",
      "(50, 3)\n",
      "1.0\n",
      "(50, 3)\n",
      "1.0\n",
      "(50, 3)\n",
      "1.0\n",
      "(50, 3)\n",
      "1.0\n",
      "(50, 3)\n",
      "1.0\n",
      "(50, 3)\n",
      "1.0\n",
      "(50, 3)\n",
      "1.0\n",
      "(50, 3)\n",
      "1.0\n",
      "(50, 3)\n",
      "1.0\n",
      "(50, 3)\n",
      "1.0\n",
      "(50, 3)\n",
      "1.0\n",
      "(50, 3)\n",
      "1.0\n",
      "(50, 3)\n",
      "1.0\n",
      "(50, 3)\n",
      "1.0\n",
      "(50, 3)\n",
      "1.0\n",
      "(50, 3)\n",
      "1.0\n",
      "(50, 3)\n",
      "1.0\n",
      "(50, 3)\n",
      "1.0\n",
      "(50, 3)\n",
      "1.0\n",
      "(50, 3)\n",
      "1.0\n",
      "(50, 3)\n",
      "1.0\n",
      "(50, 3)\n",
      "1.0\n",
      "(50, 3)\n",
      "1.0\n",
      "(50, 3)\n",
      "1.0\n",
      "(50, 3)\n",
      "1.0\n",
      "(50, 3)\n",
      "1.0\n",
      "(50, 3)\n",
      "1.0\n",
      "(50, 3)\n",
      "1.0\n",
      "(50, 3)\n",
      "1.0\n",
      "(50, 3)\n",
      "1.0\n",
      "(50, 3)\n",
      "1.0\n",
      "(50, 3)\n",
      "1.0\n",
      "(50, 3)\n",
      "1.0\n",
      "(50, 3)\n",
      "1.0\n",
      "(50, 3)\n",
      "1.0\n",
      "(50, 3)\n",
      "1.0\n",
      "(50, 3)\n",
      "1.0\n",
      "(50, 3)\n",
      "1.0\n",
      "(50, 3)\n",
      "1.0\n",
      "(50, 3)\n",
      "Training Model\n",
      "====================\n",
      "69 69\n",
      "> <ipython-input-8-08954a00cfba>(26)train_convnet_Nair()\n",
      "-> X_train = X_train.reshape(X_train.shape[0], img_rows, img_cols,img_channels)\n",
      "(Pdb) c\n"
     ]
    },
    {
     "name": "stderr",
     "output_type": "stream",
     "text": [
      "/Users/marchuertascompany/anaconda3/envs/astrophd_tutorial/lib/python3.6/site-packages/ipykernel_launcher.py:15: UserWarning: Update your `Conv2D` call to the Keras 2 API: `Conv2D(32, (6, 6), input_shape=(69, 69, 3..., padding=\"same\")`\n",
      "  from ipykernel import kernelapp as app\n",
      "/Users/marchuertascompany/anaconda3/envs/astrophd_tutorial/lib/python3.6/site-packages/ipykernel_launcher.py:19: UserWarning: Update your `Conv2D` call to the Keras 2 API: `Conv2D(64, (5, 5), padding=\"same\")`\n",
      "/Users/marchuertascompany/anaconda3/envs/astrophd_tutorial/lib/python3.6/site-packages/ipykernel_launcher.py:25: UserWarning: Update your `Conv2D` call to the Keras 2 API: `Conv2D(64, (5, 5), padding=\"same\")`\n",
      "/Users/marchuertascompany/anaconda3/envs/astrophd_tutorial/lib/python3.6/site-packages/ipykernel_launcher.py:31: UserWarning: Update your `Conv2D` call to the Keras 2 API: `Conv2D(128, (2, 2), padding=\"same\")`\n",
      "/Users/marchuertascompany/anaconda3/envs/astrophd_tutorial/lib/python3.6/site-packages/ipykernel_launcher.py:37: UserWarning: Update your `Conv2D` call to the Keras 2 API: `Conv2D(128, (3, 3), padding=\"same\")`\n",
      "/Users/marchuertascompany/anaconda3/envs/astrophd_tutorial/lib/python3.6/site-packages/ipykernel_launcher.py:46: UserWarning: Update your `Dense` call to the Keras 2 API: `Dense(1, activation=\"sigmoid\", kernel_initializer=\"uniform\")`\n",
      "/Users/marchuertascompany/anaconda3/envs/astrophd_tutorial/lib/python3.6/site-packages/ipykernel_launcher.py:26: UserWarning: The semantics of the Keras 2 argument `steps_per_epoch` is not the same as the Keras 1 argument `samples_per_epoch`. `steps_per_epoch` is the number of batches to draw from the generator at each epoch. Basically steps_per_epoch = samples_per_epoch/batch_size. Similarly `nb_val_samples`->`validation_steps` and `val_samples`->`steps` arguments have changed. Update your method calls accordingly.\n",
      "/Users/marchuertascompany/anaconda3/envs/astrophd_tutorial/lib/python3.6/site-packages/ipykernel_launcher.py:26: UserWarning: Update your `fit_generator` call to the Keras 2 API: `fit_generator(<keras.pre..., validation_data=(array([[[..., callbacks=[<keras.ca..., steps_per_epoch=1, epochs=50)`\n"
     ]
    },
    {
     "name": "stdout",
     "output_type": "stream",
     "text": [
      "Compilation...\n",
      "... done!\n",
      "Model Summary\n",
      "===================\n",
      "_________________________________________________________________\n",
      "Layer (type)                 Output Shape              Param #   \n",
      "=================================================================\n",
      "conv2d_11 (Conv2D)           (None, 69, 69, 32)        3488      \n",
      "_________________________________________________________________\n",
      "activation_11 (Activation)   (None, 69, 69, 32)        0         \n",
      "_________________________________________________________________\n",
      "dropout_13 (Dropout)         (None, 69, 69, 32)        0         \n",
      "_________________________________________________________________\n",
      "conv2d_12 (Conv2D)           (None, 69, 69, 64)        51264     \n",
      "_________________________________________________________________\n",
      "activation_12 (Activation)   (None, 69, 69, 64)        0         \n",
      "_________________________________________________________________\n",
      "max_pooling2d_7 (MaxPooling2 (None, 34, 34, 64)        0         \n",
      "_________________________________________________________________\n",
      "dropout_14 (Dropout)         (None, 34, 34, 64)        0         \n",
      "_________________________________________________________________\n",
      "conv2d_13 (Conv2D)           (None, 34, 34, 64)        102464    \n",
      "_________________________________________________________________\n",
      "activation_13 (Activation)   (None, 34, 34, 64)        0         \n",
      "_________________________________________________________________\n",
      "max_pooling2d_8 (MaxPooling2 (None, 17, 17, 64)        0         \n",
      "_________________________________________________________________\n",
      "dropout_15 (Dropout)         (None, 17, 17, 64)        0         \n",
      "_________________________________________________________________\n",
      "conv2d_14 (Conv2D)           (None, 17, 17, 128)       32896     \n",
      "_________________________________________________________________\n",
      "activation_14 (Activation)   (None, 17, 17, 128)       0         \n",
      "_________________________________________________________________\n",
      "max_pooling2d_9 (MaxPooling2 (None, 8, 8, 128)         0         \n",
      "_________________________________________________________________\n",
      "dropout_16 (Dropout)         (None, 8, 8, 128)         0         \n",
      "_________________________________________________________________\n",
      "conv2d_15 (Conv2D)           (None, 8, 8, 128)         147584    \n",
      "_________________________________________________________________\n",
      "activation_15 (Activation)   (None, 8, 8, 128)         0         \n",
      "_________________________________________________________________\n",
      "dropout_17 (Dropout)         (None, 8, 8, 128)         0         \n",
      "_________________________________________________________________\n",
      "flatten_3 (Flatten)          (None, 8192)              0         \n",
      "_________________________________________________________________\n",
      "dense_5 (Dense)              (None, 64)                524352    \n",
      "_________________________________________________________________\n",
      "dropout_18 (Dropout)         (None, 64)                0         \n",
      "_________________________________________________________________\n",
      "dense_6 (Dense)              (None, 1)                 65        \n",
      "=================================================================\n",
      "Total params: 862,113\n",
      "Trainable params: 862,113\n",
      "Non-trainable params: 0\n",
      "_________________________________________________________________\n",
      "Using real-time data augmentation.\n",
      "Epoch 1/50\n",
      "1/1 [==============================] - 3s 3s/step - loss: 0.6888 - acc: 0.5333 - val_loss: 0.6500 - val_acc: 0.6667\n",
      "Epoch 2/50\n",
      "1/1 [==============================] - 1s 905ms/step - loss: 0.7368 - acc: 0.4000 - val_loss: 0.6771 - val_acc: 0.6667\n",
      "Epoch 3/50\n",
      "1/1 [==============================] - 3s 3s/step - loss: 0.6880 - acc: 0.5333 - val_loss: 0.6815 - val_acc: 0.6667\n",
      "Epoch 4/50\n",
      "1/1 [==============================] - 1s 980ms/step - loss: 0.6799 - acc: 0.6000 - val_loss: 0.6744 - val_acc: 0.6667\n",
      "Epoch 5/50\n",
      "1/1 [==============================] - 1s 948ms/step - loss: 0.6585 - acc: 0.7000 - val_loss: 0.6544 - val_acc: 0.6667\n",
      "Epoch 6/50\n",
      "1/1 [==============================] - 3s 3s/step - loss: 0.6664 - acc: 0.5000 - val_loss: 0.6368 - val_acc: 0.6667\n",
      "Epoch 7/50\n",
      "1/1 [==============================] - 1s 1s/step - loss: 0.6151 - acc: 0.7000 - val_loss: 0.6284 - val_acc: 0.6667\n",
      "Epoch 8/50\n",
      "1/1 [==============================] - 3s 3s/step - loss: 0.7308 - acc: 0.5000 - val_loss: 0.6580 - val_acc: 0.6667\n",
      "Epoch 9/50\n",
      "1/1 [==============================] - 1s 1s/step - loss: 0.8074 - acc: 0.3000 - val_loss: 0.6836 - val_acc: 0.6667\n",
      "Epoch 10/50\n",
      "1/1 [==============================] - 3s 3s/step - loss: 0.6682 - acc: 0.6333 - val_loss: 0.6903 - val_acc: 0.6667\n",
      "Epoch 11/50\n",
      "1/1 [==============================] - 1s 929ms/step - loss: 0.6714 - acc: 0.6000 - val_loss: 0.6919 - val_acc: 0.6667\n",
      "Epoch 12/50\n",
      "1/1 [==============================] - 2s 2s/step - loss: 0.6859 - acc: 0.5667 - val_loss: 0.6925 - val_acc: 0.6667\n",
      "Epoch 13/50\n",
      "1/1 [==============================] - 2s 2s/step - loss: 0.6900 - acc: 0.5000 - val_loss: 0.6928 - val_acc: 0.6667\n",
      "Epoch 14/50\n",
      "1/1 [==============================] - 1s 762ms/step - loss: 0.6895 - acc: 0.6000 - val_loss: 0.6929 - val_acc: 0.6667\n",
      "Epoch 15/50\n",
      "1/1 [==============================] - 2s 2s/step - loss: 0.6899 - acc: 0.5667 - val_loss: 0.6929 - val_acc: 0.6667\n",
      "Epoch 16/50\n",
      "1/1 [==============================] - 1s 754ms/step - loss: 0.6845 - acc: 0.8000 - val_loss: 0.6927 - val_acc: 0.6667\n",
      "Epoch 17/50\n",
      "1/1 [==============================] - 1s 765ms/step - loss: 0.6923 - acc: 0.6000 - val_loss: 0.6925 - val_acc: 0.6667\n",
      "Saving model...\n"
     ]
    }
   ],
   "source": [
    "ntrain=int(D.shape[0]*8/10)\n",
    "nval=int(ntrain/10)   \n",
    "\n",
    "\n",
    "#I apply here some very simple normalization - you can change this too\n",
    "mu = np.amax(D,axis=(1,2))\n",
    "print(mu[0,1])\n",
    "\n",
    "for i in range(0,mu.shape[0]):\n",
    "    print(np.max(D[i,:,:,0]))\n",
    "    print(mu.shape)\n",
    "    D[i,:,:,0] = D[i,:,:,0]/mu[i,0]\n",
    "    D[i,:,:,1] = D[i,:,:,1]/mu[i,1]\n",
    "    D[i,:,:,2] = D[i,:,:,2]/mu[i,2]\n",
    "\n",
    "D, Y, = shuffle(D,Y,random_state=0)  #change order so that we do not use always the same objects to train/test\n",
    "\n",
    "\n",
    "print(\"Training Model\")\n",
    "print(\"====================\")\n",
    "model_name=train_convnet_Nair(D,Y,ntrain,nval,model_name)"
   ]
  },
  {
   "cell_type": "markdown",
   "metadata": {},
   "source": [
    "# Classify test set"
   ]
  },
  {
   "cell_type": "code",
   "execution_count": 36,
   "metadata": {
    "collapsed": false
   },
   "outputs": [
    {
     "name": "stdout",
     "output_type": "stream",
     "text": [
      "6\n",
      "Validating model\n",
      "====================\n",
      "Loading weights /Users/marchuertascompany/Documents/teaching/IAC_WINTER/tutorials/Sab/Nair_ES.hd5\n",
      "Compilation...\n",
      "... done!\n",
      "Model Summary\n",
      "===================\n",
      "_________________________________________________________________\n",
      "Layer (type)                 Output Shape              Param #   \n",
      "=================================================================\n",
      "conv2d_31 (Conv2D)           (None, 69, 69, 32)        3488      \n",
      "_________________________________________________________________\n",
      "activation_31 (Activation)   (None, 69, 69, 32)        0         \n",
      "_________________________________________________________________\n",
      "dropout_37 (Dropout)         (None, 69, 69, 32)        0         \n",
      "_________________________________________________________________\n",
      "conv2d_32 (Conv2D)           (None, 69, 69, 64)        51264     \n",
      "_________________________________________________________________\n",
      "activation_32 (Activation)   (None, 69, 69, 64)        0         \n",
      "_________________________________________________________________\n",
      "max_pooling2d_19 (MaxPooling (None, 34, 34, 64)        0         \n",
      "_________________________________________________________________\n",
      "dropout_38 (Dropout)         (None, 34, 34, 64)        0         \n",
      "_________________________________________________________________\n",
      "conv2d_33 (Conv2D)           (None, 34, 34, 64)        102464    \n",
      "_________________________________________________________________\n",
      "activation_33 (Activation)   (None, 34, 34, 64)        0         \n",
      "_________________________________________________________________\n",
      "max_pooling2d_20 (MaxPooling (None, 17, 17, 64)        0         \n",
      "_________________________________________________________________\n",
      "dropout_39 (Dropout)         (None, 17, 17, 64)        0         \n",
      "_________________________________________________________________\n",
      "conv2d_34 (Conv2D)           (None, 17, 17, 128)       32896     \n",
      "_________________________________________________________________\n",
      "activation_34 (Activation)   (None, 17, 17, 128)       0         \n",
      "_________________________________________________________________\n",
      "max_pooling2d_21 (MaxPooling (None, 8, 8, 128)         0         \n",
      "_________________________________________________________________\n",
      "dropout_40 (Dropout)         (None, 8, 8, 128)         0         \n",
      "_________________________________________________________________\n",
      "conv2d_35 (Conv2D)           (None, 8, 8, 128)         147584    \n",
      "_________________________________________________________________\n",
      "activation_35 (Activation)   (None, 8, 8, 128)         0         \n",
      "_________________________________________________________________\n",
      "dropout_41 (Dropout)         (None, 8, 8, 128)         0         \n",
      "_________________________________________________________________\n",
      "flatten_7 (Flatten)          (None, 8192)              0         \n",
      "_________________________________________________________________\n",
      "dense_13 (Dense)             (None, 64)                524352    \n",
      "_________________________________________________________________\n",
      "dropout_42 (Dropout)         (None, 64)                0         \n",
      "_________________________________________________________________\n",
      "dense_14 (Dense)             (None, 1)                 65        \n",
      "=================================================================\n",
      "Total params: 862,113\n",
      "Trainable params: 862,113\n",
      "Non-trainable params: 0\n",
      "_________________________________________________________________\n"
     ]
    },
    {
     "name": "stderr",
     "output_type": "stream",
     "text": [
      "/Users/marchuertascompany/anaconda3/envs/astrophd_tutorial/lib/python3.6/site-packages/ipykernel_launcher.py:15: UserWarning: Update your `Conv2D` call to the Keras 2 API: `Conv2D(32, (6, 6), input_shape=(69, 69, 3..., padding=\"same\")`\n",
      "  from ipykernel import kernelapp as app\n",
      "/Users/marchuertascompany/anaconda3/envs/astrophd_tutorial/lib/python3.6/site-packages/ipykernel_launcher.py:19: UserWarning: Update your `Conv2D` call to the Keras 2 API: `Conv2D(64, (5, 5), padding=\"same\")`\n",
      "/Users/marchuertascompany/anaconda3/envs/astrophd_tutorial/lib/python3.6/site-packages/ipykernel_launcher.py:25: UserWarning: Update your `Conv2D` call to the Keras 2 API: `Conv2D(64, (5, 5), padding=\"same\")`\n",
      "/Users/marchuertascompany/anaconda3/envs/astrophd_tutorial/lib/python3.6/site-packages/ipykernel_launcher.py:31: UserWarning: Update your `Conv2D` call to the Keras 2 API: `Conv2D(128, (2, 2), padding=\"same\")`\n",
      "/Users/marchuertascompany/anaconda3/envs/astrophd_tutorial/lib/python3.6/site-packages/ipykernel_launcher.py:37: UserWarning: Update your `Conv2D` call to the Keras 2 API: `Conv2D(128, (3, 3), padding=\"same\")`\n",
      "/Users/marchuertascompany/anaconda3/envs/astrophd_tutorial/lib/python3.6/site-packages/ipykernel_launcher.py:46: UserWarning: Update your `Dense` call to the Keras 2 API: `Dense(1, activation=\"sigmoid\", kernel_initializer=\"uniform\")`\n"
     ]
    }
   ],
   "source": [
    "npred=D.shape[0]-(ntrain+nval)  #test sample size; \n",
    "pred_index=ntrain+nval          #test sample start index ;\n",
    "\n",
    "\n",
    "print(\"Validating model\")\n",
    "print(\"====================\")\n",
    "Y_pred=test_convnet_Nair(D[pred_index:pred_index+npred,:,:,:],model_name) \n",
    "Y_test=Y[pred_index:pred_index+npred]   "
   ]
  },
  {
   "cell_type": "markdown",
   "metadata": {},
   "source": [
    "# Plot some accuracy plots"
   ]
  },
  {
   "cell_type": "code",
   "execution_count": 22,
   "metadata": {
    "collapsed": false
   },
   "outputs": [
    {
     "name": "stdout",
     "output_type": "stream",
     "text": [
      "Global Accuracy: 0.666666666667\n"
     ]
    },
    {
     "data": {
      "image/png": "[encoded data removed]",
      "text/plain": [
       "<Figure size 432x288 with 1 Axes>"
      ]
     },
     "metadata": {},
     "output_type": "display_data"
    },
    {
     "data": {
      "image/png": "[encoded data removed]",
      "text/plain": [
       "<Figure size 432x288 with 1 Axes>"
      ]
     },
     "metadata": {},
     "output_type": "display_data"
    }
   ],
   "source": [
    "#global accuracy\n",
    "\n",
    "Y_pred_class=Y_pred*0\n",
    "Y_pred_class[Y_pred>0.5]=1\n",
    "print(\"Global Accuracy:\", accuracy_score(Y_test, Y_pred_class))\n",
    "\n",
    "# ROC curve (False positive rate vs. True positive rate)\n",
    "fpr, tpr, thresholds = roc_curve(Y_test, Y_pred)\n",
    "\n",
    "#plot ROC\n",
    "plt.xlabel(\"FPR\", fontsize=20)\n",
    "plt.ylabel(\"TPR\", fontsize=20)\n",
    "plt.xlim(0,1)\n",
    "plt.ylim(0,1)\n",
    "plt.plot(fpr,tpr,linewidth=3,color='black')\n",
    "plt.show()\n",
    "\n",
    "\n",
    "# ROC curve (False positive rate vs. True positive rate)\n",
    "precision, recall, thresholds = precision_recall_curve(Y_test, Y_pred)\n",
    "\n",
    "#plot ROC\n",
    "plt.xlabel(\"Precision\", fontsize=20)\n",
    "plt.ylabel(\"Recall\", fontsize=20)\n",
    "plt.xlim(0,1)\n",
    "plt.ylim(0,1)\n",
    "plt.plot(precision,recall,linewidth=3,color='black')\n",
    "plt.show()"
   ]
  },
  {
   "cell_type": "markdown",
   "metadata": {},
   "source": [
    "# Visualize images bad classifed"
   ]
  },
  {
   "cell_type": "code",
   "execution_count": 38,
   "metadata": {
    "collapsed": false
   },
   "outputs": [
    {
     "data": {
      "text/plain": [
       "<matplotlib.image.AxesImage at 0x1a2cdf0630>"
      ]
     },
     "execution_count": 38,
     "metadata": {},
     "output_type": "execute_result"
    },
    {
     "data": {
      "image/png": "[encoded data removed]",
      "text/plain": [
       "<Figure size 432x288 with 1 Axes>"
      ]
     },
     "metadata": {},
     "output_type": "display_data"
    }
   ],
   "source": [
    "# objects classifed as early-types by the CNN but visually classifed as late-types\n",
    "bad = np.where((Y_pred[:,0]<0.5)&(Y_test==1))\n",
    "\n",
    "# objects classifed as late-types by the CNN but visually classifed as early-types\n",
    "bad2 = np.where((Y_pred[:,0]>0.5)&(Y_test==0))\n",
    "\n",
    "\n",
    "# show random image\n",
    "n=int(np.random.uniform(0,bad2[0].shape,1))\n",
    "\n",
    "plt.imshow(D[pred_index+bad2[0][0],:,:,:])\n"
   ]
  }
 ],
 "metadata": {
  "anaconda-cloud": {},
  "kernelspec": {
   "display_name": "Python [astrophd_tutorial]",
   "language": "python",
   "name": "Python [astrophd_tutorial]"
  },
  "language_info": {
   "codemirror_mode": {
    "name": "ipython",
    "version": 3
   },
   "file_extension": ".py",
   "mimetype": "text/x-python",
   "name": "python",
   "nbconvert_exporter": "python",
   "pygments_lexer": "ipython3",
   "version": "3.6.5"
  }
 },
 "nbformat": 4,
 "nbformat_minor": 1
}
